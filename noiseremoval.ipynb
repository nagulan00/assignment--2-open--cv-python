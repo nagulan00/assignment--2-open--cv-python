{
 "cells": [
  {
   "cell_type": "code",
   "execution_count": 2,
   "id": "113fce77-385c-43f0-82ef-249cc3c71af3",
   "metadata": {},
   "outputs": [],
   "source": [
    "import cv2\n",
    "import numpy as np\n",
    "import pandas as pd"
   ]
  },
  {
   "cell_type": "markdown",
   "id": "53de9cba-2cf4-4a53-9de3-5e6b84c16957",
   "metadata": {},
   "source": [
    "READING IMAGES"
   ]
  },
  {
   "cell_type": "code",
   "execution_count": 3,
   "id": "5c550bc2-cee6-487a-86b5-10591ac12f25",
   "metadata": {},
   "outputs": [],
   "source": [
    "actual = cv2.imread('mannoise.png',0)\n"
   ]
  },
  {
   "cell_type": "code",
   "execution_count": 4,
   "id": "48308766-f349-4738-b5dd-e4013bacb913",
   "metadata": {},
   "outputs": [],
   "source": [
    "resize = cv2.resize(actual,(720,720))\n"
   ]
  },
  {
   "cell_type": "markdown",
   "id": "10220031-2cde-40b5-89ea-4df99d0720ff",
   "metadata": {},
   "source": [
    "DISPLAYING THE NOISE IMAGES"
   ]
  },
  {
   "cell_type": "code",
   "execution_count": 5,
   "id": "de5288c9-04b8-4345-b09a-1363ca783087",
   "metadata": {},
   "outputs": [],
   "source": [
    "cv2.imshow(\"actual\",resize)\n",
    "cv2.waitKey(0)\n",
    "cv2.destroyAllWindows()"
   ]
  },
  {
   "cell_type": "markdown",
   "id": "e6cf8df2-864f-475c-819f-8545116b1ae0",
   "metadata": {},
   "source": [
    "Clearing the noise in images"
   ]
  },
  {
   "cell_type": "code",
   "execution_count": 6,
   "id": "6ee0ce69-9851-40b6-8cf3-ef3b5035ca9c",
   "metadata": {},
   "outputs": [],
   "source": [
    "clean_img_med= cv2.medianBlur(resize,3)"
   ]
  },
  {
   "cell_type": "code",
   "execution_count": 7,
   "id": "7285d180-fd2d-4ce2-9d67-ec255e9ac897",
   "metadata": {},
   "outputs": [],
   "source": [
    "clean_img_bilat = cv2.bilateralFilter(resize,100,100,150)"
   ]
  },
  {
   "cell_type": "markdown",
   "id": "00625a07-8c86-4e66-b788-74aa480f1196",
   "metadata": {},
   "source": [
    "displaying the noise and clean image"
   ]
  },
  {
   "cell_type": "code",
   "execution_count": 8,
   "id": "7ba3c671-6576-41f3-b45c-969cc2a5f3b2",
   "metadata": {},
   "outputs": [],
   "source": [
    "cv2.imshow(\"NOISE\",resize)\n",
    "cv2.waitKey(0)\n",
    "cv2.imshow(\"CLEAN\",clean_img_med)\n",
    "cv2.waitKey(0)\n",
    "cv2.imshow(\"CLEAN2\",clean_img_bilat)\n",
    "cv2.waitKey(0)\n",
    "cv2.destroyAllWindows()"
   ]
  },
  {
   "cell_type": "markdown",
   "id": "a2c213d2-efd4-4e5b-88c3-88aa51bdde1a",
   "metadata": {},
   "source": [
    "writing an images"
   ]
  },
  {
   "cell_type": "code",
   "execution_count": 9,
   "id": "93e7aa7b-1ec6-47d3-9a9e-ab6b37f9370d",
   "metadata": {},
   "outputs": [],
   "source": [
    "filtered1 = cv2.imwrite('clear1.jpg',clean_img_med)\n",
    "filtered3 = cv2.imwrite('clear2.jpg',clean_img_bilat)"
   ]
  },
  {
   "cell_type": "code",
   "execution_count": null,
   "id": "3e305301-06d5-4778-a965-c77f59962fc8",
   "metadata": {},
   "outputs": [],
   "source": []
  }
 ],
 "metadata": {
  "kernelspec": {
   "display_name": "Python 3 (ipykernel)",
   "language": "python",
   "name": "python3"
  },
  "language_info": {
   "codemirror_mode": {
    "name": "ipython",
    "version": 3
   },
   "file_extension": ".py",
   "mimetype": "text/x-python",
   "name": "python",
   "nbconvert_exporter": "python",
   "pygments_lexer": "ipython3",
   "version": "3.12.7"
  }
 },
 "nbformat": 4,
 "nbformat_minor": 5
}
